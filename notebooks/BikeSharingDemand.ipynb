{
 "cells": [
  {
   "cell_type": "code",
   "execution_count": 73,
   "id": "be0639dd-c691-4bee-9729-ba576a436f36",
   "metadata": {},
   "outputs": [],
   "source": [
    "import pandas as pd\n",
    "import numpy as np\n",
    "import matplotlib.pyplot as plt\n",
    "import seaborn as sns"
   ]
  },
  {
   "cell_type": "code",
   "execution_count": 74,
   "id": "16123c5d-34ec-4143-aee4-753986062113",
   "metadata": {
    "scrolled": true
   },
   "outputs": [
    {
     "name": "stdout",
     "output_type": "stream",
     "text": [
      "          Date  Rented Bike Count  Hour  Temperature(C)  Humidity(%)  \\\n",
      "0   01/12/2017                254     0            -5.2           37   \n",
      "1   01/12/2017                204     1            -5.5           38   \n",
      "2   01/12/2017                173     2            -6.0           39   \n",
      "3   01/12/2017                107     3            -6.2           40   \n",
      "4   01/12/2017                 78     4            -6.0           36   \n",
      "5   01/12/2017                100     5            -6.4           37   \n",
      "6   01/12/2017                181     6            -6.6           35   \n",
      "7   01/12/2017                460     7            -7.4           38   \n",
      "8   01/12/2017                930     8            -7.6           37   \n",
      "9   01/12/2017                490     9            -6.5           27   \n",
      "10  01/12/2017                339    10            -3.5           24   \n",
      "11  01/12/2017                360    11            -0.5           21   \n",
      "12  01/12/2017                449    12             1.7           23   \n",
      "13  01/12/2017                451    13             2.4           25   \n",
      "14  01/12/2017                447    14             3.0           26   \n",
      "15  01/12/2017                463    15             2.1           36   \n",
      "16  01/12/2017                484    16             1.2           54   \n",
      "17  01/12/2017                555    17             0.8           58   \n",
      "18  01/12/2017                862    18             0.6           66   \n",
      "19  01/12/2017                600    19             0.0           77   \n",
      "\n",
      "    Wind speed (m/s)  Visibility (10m)  Dew point temperature(C)  \\\n",
      "0                2.2              2000                     -17.6   \n",
      "1                0.8              2000                     -17.6   \n",
      "2                1.0              2000                     -17.7   \n",
      "3                0.9              2000                     -17.6   \n",
      "4                2.3              2000                     -18.6   \n",
      "5                1.5              2000                     -18.7   \n",
      "6                1.3              2000                     -19.5   \n",
      "7                0.9              2000                     -19.3   \n",
      "8                1.1              2000                     -19.8   \n",
      "9                0.5              1928                     -22.4   \n",
      "10               1.2              1996                     -21.2   \n",
      "11               1.3              1936                     -20.2   \n",
      "12               1.4              2000                     -17.2   \n",
      "13               1.6              2000                     -15.6   \n",
      "14               2.0              2000                     -14.6   \n",
      "15               3.2              2000                     -11.4   \n",
      "16               4.2               793                      -7.0   \n",
      "17               1.6              2000                      -6.5   \n",
      "18               1.4              2000                      -5.0   \n",
      "19               1.7              2000                      -3.5   \n",
      "\n",
      "    Solar Radiation (MJ/m2)  Rainfall(mm)  Snowfall (cm) Seasons     Holiday  \\\n",
      "0                      0.00           0.0            0.0  Winter  No Holiday   \n",
      "1                      0.00           0.0            0.0  Winter  No Holiday   \n",
      "2                      0.00           0.0            0.0  Winter  No Holiday   \n",
      "3                      0.00           0.0            0.0  Winter  No Holiday   \n",
      "4                      0.00           0.0            0.0  Winter  No Holiday   \n",
      "5                      0.00           0.0            0.0  Winter  No Holiday   \n",
      "6                      0.00           0.0            0.0  Winter  No Holiday   \n",
      "7                      0.00           0.0            0.0  Winter  No Holiday   \n",
      "8                      0.01           0.0            0.0  Winter  No Holiday   \n",
      "9                      0.23           0.0            0.0  Winter  No Holiday   \n",
      "10                     0.65           0.0            0.0  Winter  No Holiday   \n",
      "11                     0.94           0.0            0.0  Winter  No Holiday   \n",
      "12                     1.11           0.0            0.0  Winter  No Holiday   \n",
      "13                     1.16           0.0            0.0  Winter  No Holiday   \n",
      "14                     1.01           0.0            0.0  Winter  No Holiday   \n",
      "15                     0.54           0.0            0.0  Winter  No Holiday   \n",
      "16                     0.24           0.0            0.0  Winter  No Holiday   \n",
      "17                     0.08           0.0            0.0  Winter  No Holiday   \n",
      "18                     0.00           0.0            0.0  Winter  No Holiday   \n",
      "19                     0.00           0.0            0.0  Winter  No Holiday   \n",
      "\n",
      "   Functioning Day  \n",
      "0              Yes  \n",
      "1              Yes  \n",
      "2              Yes  \n",
      "3              Yes  \n",
      "4              Yes  \n",
      "5              Yes  \n",
      "6              Yes  \n",
      "7              Yes  \n",
      "8              Yes  \n",
      "9              Yes  \n",
      "10             Yes  \n",
      "11             Yes  \n",
      "12             Yes  \n",
      "13             Yes  \n",
      "14             Yes  \n",
      "15             Yes  \n",
      "16             Yes  \n",
      "17             Yes  \n",
      "18             Yes  \n",
      "19             Yes  \n"
     ]
    }
   ],
   "source": [
    "dataset = pd.read_csv(\"data\\SeoulBikeData.csv\")\n",
    "\n",
    "df = dataset.copy()\n",
    "\n",
    "print(df.head(20))"
   ]
  },
  {
   "cell_type": "markdown",
   "id": "cc7dd169-8776-45ec-acef-7d26e4fd7a3e",
   "metadata": {},
   "source": [
    "# Data Cleaning"
   ]
  },
  {
   "cell_type": "code",
   "execution_count": 75,
   "id": "d05f20ab-9618-44e4-8216-f2a8c67ea1cc",
   "metadata": {},
   "outputs": [
    {
     "name": "stdout",
     "output_type": "stream",
     "text": [
      "<class 'pandas.core.frame.DataFrame'>\n",
      "RangeIndex: 8760 entries, 0 to 8759\n",
      "Data columns (total 14 columns):\n",
      " #   Column                    Non-Null Count  Dtype  \n",
      "---  ------                    --------------  -----  \n",
      " 0   Date                      8760 non-null   object \n",
      " 1   Rented Bike Count         8760 non-null   int64  \n",
      " 2   Hour                      8760 non-null   int64  \n",
      " 3   Temperature(C)            8760 non-null   float64\n",
      " 4   Humidity(%)               8760 non-null   int64  \n",
      " 5   Wind speed (m/s)          8760 non-null   float64\n",
      " 6   Visibility (10m)          8760 non-null   int64  \n",
      " 7   Dew point temperature(C)  8760 non-null   float64\n",
      " 8   Solar Radiation (MJ/m2)   8760 non-null   float64\n",
      " 9   Rainfall(mm)              8760 non-null   float64\n",
      " 10  Snowfall (cm)             8760 non-null   float64\n",
      " 11  Seasons                   8760 non-null   object \n",
      " 12  Holiday                   8760 non-null   object \n",
      " 13  Functioning Day           8760 non-null   object \n",
      "dtypes: float64(6), int64(4), object(4)\n",
      "memory usage: 958.3+ KB\n"
     ]
    }
   ],
   "source": [
    "df.info()"
   ]
  },
  {
   "cell_type": "code",
   "execution_count": 76,
   "id": "b6b057ce-44bb-4960-8e46-e329d0d631ce",
   "metadata": {},
   "outputs": [
    {
     "name": "stdout",
     "output_type": "stream",
     "text": [
      "Missing values count: Date                        0\n",
      "Rented Bike Count           0\n",
      "Hour                        0\n",
      "Temperature(C)              0\n",
      "Humidity(%)                 0\n",
      "Wind speed (m/s)            0\n",
      "Visibility (10m)            0\n",
      "Dew point temperature(C)    0\n",
      "Solar Radiation (MJ/m2)     0\n",
      "Rainfall(mm)                0\n",
      "Snowfall (cm)               0\n",
      "Seasons                     0\n",
      "Holiday                     0\n",
      "Functioning Day             0\n",
      "dtype: int64\n"
     ]
    }
   ],
   "source": [
    "missing_values = df.isnull().sum()\n",
    "\n",
    "print(\"Missing values count:\", missing_values)"
   ]
  },
  {
   "cell_type": "markdown",
   "id": "e6e71623-5999-4e5a-95f9-55ba3df793a5",
   "metadata": {},
   "source": [
    "*Dataset does not have missing values, therefore no need to fill or delete entries.*"
   ]
  },
  {
   "cell_type": "code",
   "execution_count": 77,
   "id": "1f6ed77a-18e6-4e98-a5f6-4110c8c6d554",
   "metadata": {},
   "outputs": [
    {
     "name": "stdout",
     "output_type": "stream",
     "text": [
      "Duplicated values count: 0\n"
     ]
    }
   ],
   "source": [
    "duplicates = df.duplicated().sum()\n",
    "\n",
    "print(\"Duplicated values count:\", duplicates)"
   ]
  },
  {
   "cell_type": "markdown",
   "id": "fdfd1983-3340-448d-a104-451d5ad25b6a",
   "metadata": {},
   "source": [
    "*Dataset does not have duplicated values => no need to drop duplicates.*"
   ]
  },
  {
   "cell_type": "code",
   "execution_count": 78,
   "id": "11335768-7ccd-4e14-83a6-d248d4dc9c9b",
   "metadata": {},
   "outputs": [
    {
     "data": {
      "text/plain": [
       "Date                         object\n",
       "Rented Bike Count             int64\n",
       "Hour                          int64\n",
       "Temperature(C)              float64\n",
       "Humidity(%)                   int64\n",
       "Wind speed (m/s)            float64\n",
       "Visibility (10m)              int64\n",
       "Dew point temperature(C)    float64\n",
       "Solar Radiation (MJ/m2)     float64\n",
       "Rainfall(mm)                float64\n",
       "Snowfall (cm)               float64\n",
       "Seasons                      object\n",
       "Holiday                      object\n",
       "Functioning Day              object\n",
       "dtype: object"
      ]
     },
     "execution_count": 78,
     "metadata": {},
     "output_type": "execute_result"
    }
   ],
   "source": [
    "df.dtypes"
   ]
  },
  {
   "cell_type": "markdown",
   "id": "452e9f7f-7734-45bb-9113-3f86ba2d2b9e",
   "metadata": {},
   "source": [
    "*There is a need to convert some of the columns to different datatypes, but before that, they shall be explored: standartized, inconsistencies removed, etc.*"
   ]
  },
  {
   "cell_type": "code",
   "execution_count": 79,
   "id": "c77674c5-a333-4365-9a68-e845b8332726",
   "metadata": {},
   "outputs": [
    {
     "data": {
      "text/plain": [
       "array(['Yes', 'No'], dtype=object)"
      ]
     },
     "execution_count": 79,
     "metadata": {},
     "output_type": "execute_result"
    }
   ],
   "source": [
    "df['Functioning Day'].unique() # consistent"
   ]
  },
  {
   "cell_type": "code",
   "execution_count": 80,
   "id": "a800a8f2-c893-4441-9b6b-f2d98d4e7fb3",
   "metadata": {},
   "outputs": [
    {
     "data": {
      "text/plain": [
       "array(['No Holiday', 'Holiday'], dtype=object)"
      ]
     },
     "execution_count": 80,
     "metadata": {},
     "output_type": "execute_result"
    }
   ],
   "source": [
    "df['Holiday'].unique() # consistent"
   ]
  },
  {
   "cell_type": "code",
   "execution_count": 81,
   "id": "5afe79be-825a-42dc-baf8-314ec5ba40ed",
   "metadata": {},
   "outputs": [
    {
     "data": {
      "text/plain": [
       "array(['Winter', 'Spring', 'Summer', 'Autumn'], dtype=object)"
      ]
     },
     "execution_count": 81,
     "metadata": {},
     "output_type": "execute_result"
    }
   ],
   "source": [
    "df['Seasons'].unique() # consistent"
   ]
  },
  {
   "cell_type": "markdown",
   "id": "9690c0cc-25da-4e5c-8846-5862acf3df6f",
   "metadata": {},
   "source": [
    "*Those columns are consistent and standartized already, and they can later be encoded for easier analysis*"
   ]
  },
  {
   "cell_type": "code",
   "execution_count": 82,
   "id": "e454bad9-9d5d-43c8-84f7-7ce883f6f928",
   "metadata": {},
   "outputs": [],
   "source": [
    "df['Date'] = pd.to_datetime(df['Date'], format = \"%d/%m/%Y\")"
   ]
  },
  {
   "cell_type": "markdown",
   "id": "d91ec7ab-2c1b-4ec9-a209-044e150f5870",
   "metadata": {},
   "source": [
    "*In the numerical columns values can be checked for outliers and removed, some columns are not checked as they can be bound to the seasons* "
   ]
  },
  {
   "cell_type": "code",
   "execution_count": 83,
   "id": "3b947ab8-56b2-4344-ba24-48aa6f79447c",
   "metadata": {},
   "outputs": [],
   "source": [
    "numerical_columns_to_check_for_outliers = ['Rented Bike Count', 'Hour', 'Temperature(C)', 'Humidity(%)', \n",
    "                                           'Visibility (10m)', 'Dew point temperature(C)']"
   ]
  },
  {
   "cell_type": "code",
   "execution_count": 84,
   "id": "46c48a69-a1b9-42d0-a5c6-f631450ac4ff",
   "metadata": {},
   "outputs": [
    {
     "name": "stdout",
     "output_type": "stream",
     "text": [
      "Outliers count for Rented Bike Count column: 158\n",
      "Outliers count for Hour column: 0\n",
      "Outliers count for Temperature(C) column: 0\n",
      "Outliers count for Humidity(%) column: 0\n",
      "Outliers count for Visibility (10m) column: 0\n",
      "Outliers count for Dew point temperature(C) column: 0\n"
     ]
    },
    {
     "name": "stderr",
     "output_type": "stream",
     "text": [
      "C:\\Users\\sasha\\AppData\\Local\\Temp\\ipykernel_32364\\977183848.py:8: FutureWarning: Series.__getitem__ treating keys as positions is deprecated. In a future version, integer keys will always be treated as labels (consistent with DataFrame behavior). To access a value by position, use `ser.iloc[pos]`\n",
      "  ouliers_count = df[(df[column] < lower) | (df[column] > upper)].count()[0]\n",
      "C:\\Users\\sasha\\AppData\\Local\\Temp\\ipykernel_32364\\977183848.py:8: FutureWarning: Series.__getitem__ treating keys as positions is deprecated. In a future version, integer keys will always be treated as labels (consistent with DataFrame behavior). To access a value by position, use `ser.iloc[pos]`\n",
      "  ouliers_count = df[(df[column] < lower) | (df[column] > upper)].count()[0]\n",
      "C:\\Users\\sasha\\AppData\\Local\\Temp\\ipykernel_32364\\977183848.py:8: FutureWarning: Series.__getitem__ treating keys as positions is deprecated. In a future version, integer keys will always be treated as labels (consistent with DataFrame behavior). To access a value by position, use `ser.iloc[pos]`\n",
      "  ouliers_count = df[(df[column] < lower) | (df[column] > upper)].count()[0]\n",
      "C:\\Users\\sasha\\AppData\\Local\\Temp\\ipykernel_32364\\977183848.py:8: FutureWarning: Series.__getitem__ treating keys as positions is deprecated. In a future version, integer keys will always be treated as labels (consistent with DataFrame behavior). To access a value by position, use `ser.iloc[pos]`\n",
      "  ouliers_count = df[(df[column] < lower) | (df[column] > upper)].count()[0]\n",
      "C:\\Users\\sasha\\AppData\\Local\\Temp\\ipykernel_32364\\977183848.py:8: FutureWarning: Series.__getitem__ treating keys as positions is deprecated. In a future version, integer keys will always be treated as labels (consistent with DataFrame behavior). To access a value by position, use `ser.iloc[pos]`\n",
      "  ouliers_count = df[(df[column] < lower) | (df[column] > upper)].count()[0]\n",
      "C:\\Users\\sasha\\AppData\\Local\\Temp\\ipykernel_32364\\977183848.py:8: FutureWarning: Series.__getitem__ treating keys as positions is deprecated. In a future version, integer keys will always be treated as labels (consistent with DataFrame behavior). To access a value by position, use `ser.iloc[pos]`\n",
      "  ouliers_count = df[(df[column] < lower) | (df[column] > upper)].count()[0]\n"
     ]
    }
   ],
   "source": [
    "for column in numerical_columns_to_check_for_outliers:\n",
    "    Q1 = df[column].quantile(0.25)\n",
    "    Q3 = df[column].quantile(0.75)\n",
    "    IQR = Q3 - Q1\n",
    "    lower = Q1 - 1.5 * IQR\n",
    "    upper = Q3 + 1.5 * IQR\n",
    "\n",
    "    ouliers_count = df[(df[column] < lower) | (df[column] > upper)].count()[0]\n",
    "    print(f\"Outliers count for {column} column: {ouliers_count}\")\n",
    "    df = df[(df[column] >= lower) & (df[column] <= upper)] # remove outliers\n",
    "    "
   ]
  },
  {
   "cell_type": "markdown",
   "id": "2caa2e19-2959-4eec-8dc5-b502fa24de78",
   "metadata": {},
   "source": [
    "*158 outlining values were removed, which is not a big number compared to the size of the dataset and will not influence analysis.* "
   ]
  },
  {
   "cell_type": "code",
   "execution_count": 85,
   "id": "75972a10-e79d-4001-b69c-d72eebe73126",
   "metadata": {},
   "outputs": [
    {
     "name": "stdout",
     "output_type": "stream",
     "text": [
      "<class 'pandas.core.frame.DataFrame'>\n",
      "Index: 8602 entries, 0 to 8759\n",
      "Data columns (total 14 columns):\n",
      " #   Column                    Non-Null Count  Dtype         \n",
      "---  ------                    --------------  -----         \n",
      " 0   Date                      8602 non-null   datetime64[ns]\n",
      " 1   Rented Bike Count         8602 non-null   int64         \n",
      " 2   Hour                      8602 non-null   int64         \n",
      " 3   Temperature(C)            8602 non-null   float64       \n",
      " 4   Humidity(%)               8602 non-null   int64         \n",
      " 5   Wind speed (m/s)          8602 non-null   float64       \n",
      " 6   Visibility (10m)          8602 non-null   int64         \n",
      " 7   Dew point temperature(C)  8602 non-null   float64       \n",
      " 8   Solar Radiation (MJ/m2)   8602 non-null   float64       \n",
      " 9   Rainfall(mm)              8602 non-null   float64       \n",
      " 10  Snowfall (cm)             8602 non-null   float64       \n",
      " 11  Seasons                   8602 non-null   object        \n",
      " 12  Holiday                   8602 non-null   object        \n",
      " 13  Functioning Day           8602 non-null   object        \n",
      "dtypes: datetime64[ns](1), float64(6), int64(4), object(3)\n",
      "memory usage: 1008.0+ KB\n"
     ]
    }
   ],
   "source": [
    "df.info()"
   ]
  },
  {
   "cell_type": "markdown",
   "id": "e34f3700-3ba0-4111-9acb-5969bf8478da",
   "metadata": {},
   "source": [
    "# Exploratory Data Analysis (EDA)"
   ]
  },
  {
   "cell_type": "code",
   "execution_count": 86,
   "id": "12ee23f6-6027-4e75-a9be-6a45421ae3fc",
   "metadata": {},
   "outputs": [
    {
     "data": {
      "text/html": [
       "<div>\n",
       "<style scoped>\n",
       "    .dataframe tbody tr th:only-of-type {\n",
       "        vertical-align: middle;\n",
       "    }\n",
       "\n",
       "    .dataframe tbody tr th {\n",
       "        vertical-align: top;\n",
       "    }\n",
       "\n",
       "    .dataframe thead th {\n",
       "        text-align: right;\n",
       "    }\n",
       "</style>\n",
       "<table border=\"1\" class=\"dataframe\">\n",
       "  <thead>\n",
       "    <tr style=\"text-align: right;\">\n",
       "      <th></th>\n",
       "      <th>Date</th>\n",
       "      <th>Rented Bike Count</th>\n",
       "      <th>Hour</th>\n",
       "      <th>Temperature(C)</th>\n",
       "      <th>Humidity(%)</th>\n",
       "      <th>Wind speed (m/s)</th>\n",
       "      <th>Visibility (10m)</th>\n",
       "      <th>Dew point temperature(C)</th>\n",
       "      <th>Solar Radiation (MJ/m2)</th>\n",
       "      <th>Rainfall(mm)</th>\n",
       "      <th>Snowfall (cm)</th>\n",
       "    </tr>\n",
       "  </thead>\n",
       "  <tbody>\n",
       "    <tr>\n",
       "      <th>count</th>\n",
       "      <td>8602</td>\n",
       "      <td>8602.000000</td>\n",
       "      <td>8602.000000</td>\n",
       "      <td>8602.000000</td>\n",
       "      <td>8602.000000</td>\n",
       "      <td>8602.000000</td>\n",
       "      <td>8602.000000</td>\n",
       "      <td>8602.000000</td>\n",
       "      <td>8602.000000</td>\n",
       "      <td>8602.000000</td>\n",
       "      <td>8602.000000</td>\n",
       "    </tr>\n",
       "    <tr>\n",
       "      <th>mean</th>\n",
       "      <td>2018-05-31 08:10:49.523366656</td>\n",
       "      <td>667.971635</td>\n",
       "      <td>11.377122</td>\n",
       "      <td>12.674890</td>\n",
       "      <td>58.372937</td>\n",
       "      <td>1.716124</td>\n",
       "      <td>1431.978958</td>\n",
       "      <td>3.916624</td>\n",
       "      <td>0.568715</td>\n",
       "      <td>0.151407</td>\n",
       "      <td>0.076447</td>\n",
       "    </tr>\n",
       "    <tr>\n",
       "      <th>min</th>\n",
       "      <td>2017-12-01 00:00:00</td>\n",
       "      <td>0.000000</td>\n",
       "      <td>0.000000</td>\n",
       "      <td>-17.800000</td>\n",
       "      <td>0.000000</td>\n",
       "      <td>0.000000</td>\n",
       "      <td>27.000000</td>\n",
       "      <td>-30.600000</td>\n",
       "      <td>0.000000</td>\n",
       "      <td>0.000000</td>\n",
       "      <td>0.000000</td>\n",
       "    </tr>\n",
       "    <tr>\n",
       "      <th>25%</th>\n",
       "      <td>2018-02-28 00:00:00</td>\n",
       "      <td>188.000000</td>\n",
       "      <td>5.000000</td>\n",
       "      <td>3.200000</td>\n",
       "      <td>42.000000</td>\n",
       "      <td>0.900000</td>\n",
       "      <td>929.000000</td>\n",
       "      <td>-4.900000</td>\n",
       "      <td>0.000000</td>\n",
       "      <td>0.000000</td>\n",
       "      <td>0.000000</td>\n",
       "    </tr>\n",
       "    <tr>\n",
       "      <th>50%</th>\n",
       "      <td>2018-05-30 00:00:00</td>\n",
       "      <td>485.000000</td>\n",
       "      <td>11.000000</td>\n",
       "      <td>13.300000</td>\n",
       "      <td>57.000000</td>\n",
       "      <td>1.500000</td>\n",
       "      <td>1689.500000</td>\n",
       "      <td>4.800000</td>\n",
       "      <td>0.010000</td>\n",
       "      <td>0.000000</td>\n",
       "      <td>0.000000</td>\n",
       "    </tr>\n",
       "    <tr>\n",
       "      <th>75%</th>\n",
       "      <td>2018-08-31 00:00:00</td>\n",
       "      <td>1030.750000</td>\n",
       "      <td>17.000000</td>\n",
       "      <td>22.200000</td>\n",
       "      <td>74.000000</td>\n",
       "      <td>2.300000</td>\n",
       "      <td>2000.000000</td>\n",
       "      <td>14.700000</td>\n",
       "      <td>0.930000</td>\n",
       "      <td>0.000000</td>\n",
       "      <td>0.000000</td>\n",
       "    </tr>\n",
       "    <tr>\n",
       "      <th>max</th>\n",
       "      <td>2018-11-30 00:00:00</td>\n",
       "      <td>2375.000000</td>\n",
       "      <td>23.000000</td>\n",
       "      <td>39.400000</td>\n",
       "      <td>98.000000</td>\n",
       "      <td>7.400000</td>\n",
       "      <td>2000.000000</td>\n",
       "      <td>27.200000</td>\n",
       "      <td>3.520000</td>\n",
       "      <td>35.000000</td>\n",
       "      <td>8.800000</td>\n",
       "    </tr>\n",
       "    <tr>\n",
       "      <th>std</th>\n",
       "      <td>NaN</td>\n",
       "      <td>589.552620</td>\n",
       "      <td>6.920938</td>\n",
       "      <td>11.937911</td>\n",
       "      <td>20.455133</td>\n",
       "      <td>1.038349</td>\n",
       "      <td>610.175009</td>\n",
       "      <td>13.102464</td>\n",
       "      <td>0.874273</td>\n",
       "      <td>1.138328</td>\n",
       "      <td>0.440620</td>\n",
       "    </tr>\n",
       "  </tbody>\n",
       "</table>\n",
       "</div>"
      ],
      "text/plain": [
       "                                Date  Rented Bike Count         Hour  \\\n",
       "count                           8602        8602.000000  8602.000000   \n",
       "mean   2018-05-31 08:10:49.523366656         667.971635    11.377122   \n",
       "min              2017-12-01 00:00:00           0.000000     0.000000   \n",
       "25%              2018-02-28 00:00:00         188.000000     5.000000   \n",
       "50%              2018-05-30 00:00:00         485.000000    11.000000   \n",
       "75%              2018-08-31 00:00:00        1030.750000    17.000000   \n",
       "max              2018-11-30 00:00:00        2375.000000    23.000000   \n",
       "std                              NaN         589.552620     6.920938   \n",
       "\n",
       "       Temperature(C)  Humidity(%)  Wind speed (m/s)  Visibility (10m)  \\\n",
       "count     8602.000000  8602.000000       8602.000000       8602.000000   \n",
       "mean        12.674890    58.372937          1.716124       1431.978958   \n",
       "min        -17.800000     0.000000          0.000000         27.000000   \n",
       "25%          3.200000    42.000000          0.900000        929.000000   \n",
       "50%         13.300000    57.000000          1.500000       1689.500000   \n",
       "75%         22.200000    74.000000          2.300000       2000.000000   \n",
       "max         39.400000    98.000000          7.400000       2000.000000   \n",
       "std         11.937911    20.455133          1.038349        610.175009   \n",
       "\n",
       "       Dew point temperature(C)  Solar Radiation (MJ/m2)  Rainfall(mm)  \\\n",
       "count               8602.000000              8602.000000   8602.000000   \n",
       "mean                   3.916624                 0.568715      0.151407   \n",
       "min                  -30.600000                 0.000000      0.000000   \n",
       "25%                   -4.900000                 0.000000      0.000000   \n",
       "50%                    4.800000                 0.010000      0.000000   \n",
       "75%                   14.700000                 0.930000      0.000000   \n",
       "max                   27.200000                 3.520000     35.000000   \n",
       "std                   13.102464                 0.874273      1.138328   \n",
       "\n",
       "       Snowfall (cm)  \n",
       "count    8602.000000  \n",
       "mean        0.076447  \n",
       "min         0.000000  \n",
       "25%         0.000000  \n",
       "50%         0.000000  \n",
       "75%         0.000000  \n",
       "max         8.800000  \n",
       "std         0.440620  "
      ]
     },
     "execution_count": 86,
     "metadata": {},
     "output_type": "execute_result"
    }
   ],
   "source": [
    "df.describe()"
   ]
  },
  {
   "cell_type": "code",
   "execution_count": 87,
   "id": "e8464b2f-5112-4b6c-aa69-83d0f3e4272c",
   "metadata": {},
   "outputs": [
    {
     "data": {
      "text/plain": [
       "<Axes: >"
      ]
     },
     "execution_count": 87,
     "metadata": {},
     "output_type": "execute_result"
    },
    {
     "data": {
      "image/png": "[encoded data removed]",
      "text/plain": [
       "<Figure size 640x480 with 2 Axes>"
      ]
     },
     "metadata": {},
     "output_type": "display_data"
    }
   ],
   "source": [
    "corr = df.corr(numeric_only = True)\n",
    "sns.heatmap(corr, cmap='coolwarm')"
   ]
  },
  {
   "cell_type": "markdown",
   "id": "215c95e3-7f99-4c73-93a1-09a7d07c362c",
   "metadata": {},
   "source": [
    "*Here we can see some positive correlations between Rented Bike Count and some columsn like: Hour, Temperature.*"
   ]
  },
  {
   "cell_type": "code",
   "execution_count": 88,
   "id": "3b6d50de-4a73-49cf-8508-6dcbe04654ff",
   "metadata": {},
   "outputs": [
    {
     "data": {
      "image/png": "[encoded data removed]",
      "text/plain": [
       "<Figure size 640x480 with 1 Axes>"
      ]
     },
     "metadata": {},
     "output_type": "display_data"
    },
    {
     "data": {
      "image/png": "[encoded data removed]",
      "text/plain": [
       "<Figure size 640x480 with 1 Axes>"
      ]
     },
     "metadata": {},
     "output_type": "display_data"
    }
   ],
   "source": [
    "sns.histplot(df['Rented Bike Count'], kde=True) # Distribution of Rented Bike Count\n",
    "plt.show()\n",
    "\n",
    "sns.boxplot(x='Seasons', y='Rented Bike Count', data=df) # Boxplot for seasons vs bike rentals\n",
    "plt.show()"
   ]
  },
  {
   "cell_type": "markdown",
   "id": "df57e5a5-3fbf-44b0-b713-6518a20d5b6d",
   "metadata": {},
   "source": [
    "*Here from the first histogram it can be observed, that majority of bike rentals for a day is around 0-500 bikes an hour. And from the second plot it is seen, that season 1 (winter) is not a super popular season for bike rentals, which is logical*"
   ]
  },
  {
   "cell_type": "markdown",
   "id": "6cc58505-0e38-4337-aee1-1c7271b8f8f8",
   "metadata": {},
   "source": [
    "# Features"
   ]
  },
  {
   "cell_type": "markdown",
   "id": "e78c9077-7ce7-43d0-935a-e29700b1a0ac",
   "metadata": {},
   "source": [
    "## Feature Engeneering"
   ]
  },
  {
   "cell_type": "markdown",
   "id": "7f3e8a7e-4db6-461c-9354-256b7c9473da",
   "metadata": {},
   "source": [
    "*Some features can be created to further assist model in predicting, like Weekday/Weekend feature, Day period, Renting demand...*"
   ]
  },
  {
   "cell_type": "code",
   "execution_count": 89,
   "id": "2f572756-7312-4944-9879-00d84e0ed553",
   "metadata": {},
   "outputs": [],
   "source": [
    "df['Weekday'] = df['Date'].dt.weekday # 0 = Monday, 6 = Sunday\n",
    "df['Is_Weekend'] = df['Weekday'].apply(lambda x: 1 if x >= 5 else 0)"
   ]
  },
  {
   "cell_type": "code",
   "execution_count": 90,
   "id": "085194cc-e470-49d7-a0c8-4bc2b19c7a5a",
   "metadata": {},
   "outputs": [],
   "source": [
    "def categorize_hour(hour):\n",
    "    if 6 <= hour < 12:\n",
    "        return 'Morning'\n",
    "    elif 12 <= hour < 18:\n",
    "        return 'Day'\n",
    "    elif 18 <= hour < 24:\n",
    "        return 'Evening'\n",
    "    else:\n",
    "        return 'Night'\n",
    "\n",
    "df['Time_of_Day'] = df['Hour'].apply(categorize_hour)"
   ]
  },
  {
   "cell_type": "markdown",
   "id": "338b1eff-4d78-4e5b-b877-c67231448731",
   "metadata": {},
   "source": [
    "*Some columns can be normilized*"
   ]
  },
  {
   "cell_type": "code",
   "execution_count": 91,
   "id": "3a2d5978-2964-4770-aeae-6367d13199a2",
   "metadata": {},
   "outputs": [],
   "source": [
    "from sklearn.preprocessing import MinMaxScaler, StandardScaler\n",
    "\n",
    "scaler = StandardScaler()\n",
    "df[['Temperature(C)', 'Humidity(%)', 'Wind speed (m/s)', 'Solar Radiation (MJ/m2)']] = scaler.fit_transform(\n",
    "    df[['Temperature(C)', 'Humidity(%)', 'Wind speed (m/s)', 'Solar Radiation (MJ/m2)']])"
   ]
  },
  {
   "cell_type": "markdown",
   "id": "428f859d-8a0f-497d-9cb5-33beae2483a1",
   "metadata": {},
   "source": [
    "*Now for columns 'Seasons', 'Holiday', 'Functioning Day', 'Time_of_Day' we can get dummies.*"
   ]
  },
  {
   "cell_type": "code",
   "execution_count": 92,
   "id": "2d7ba96f-17b6-4543-a1aa-7f6641e1b0c2",
   "metadata": {},
   "outputs": [],
   "source": [
    "df = pd.get_dummies(df, columns=['Seasons', 'Holiday', 'Functioning Day', 'Time_of_Day'])"
   ]
  },
  {
   "cell_type": "markdown",
   "id": "2ece91d5-ae2c-4211-a57a-bb35435438b4",
   "metadata": {},
   "source": [
    "## Feature Importance"
   ]
  },
  {
   "cell_type": "code",
   "execution_count": 93,
   "id": "e4d274b7-2d99-4c2f-8e32-30c13732a052",
   "metadata": {},
   "outputs": [
    {
     "data": {
      "text/plain": [
       "Index(['Date', 'Rented Bike Count', 'Hour', 'Temperature(C)', 'Humidity(%)',\n",
       "       'Wind speed (m/s)', 'Visibility (10m)', 'Dew point temperature(C)',\n",
       "       'Solar Radiation (MJ/m2)', 'Rainfall(mm)', 'Snowfall (cm)', 'Weekday',\n",
       "       'Is_Weekend', 'Seasons_Autumn', 'Seasons_Spring', 'Seasons_Summer',\n",
       "       'Seasons_Winter', 'Holiday_Holiday', 'Holiday_No Holiday',\n",
       "       'Functioning Day_No', 'Functioning Day_Yes', 'Time_of_Day_Day',\n",
       "       'Time_of_Day_Evening', 'Time_of_Day_Morning', 'Time_of_Day_Night'],\n",
       "      dtype='object')"
      ]
     },
     "execution_count": 93,
     "metadata": {},
     "output_type": "execute_result"
    }
   ],
   "source": [
    "df.columns"
   ]
  },
  {
   "cell_type": "code",
   "execution_count": 94,
   "id": "381b9834-e4fd-47f7-a28d-5f186058bbe8",
   "metadata": {
    "scrolled": true
   },
   "outputs": [
    {
     "data": {
      "text/plain": [
       "Rented Bike Count           1.000000\n",
       "Temperature(C)              0.539483\n",
       "Hour                        0.396070\n",
       "Dew point temperature(C)    0.379862\n",
       "Date                        0.355943\n",
       "Seasons_Summer              0.287013\n",
       "Solar Radiation (MJ/m2)     0.286884\n",
       "Time_of_Day_Evening         0.266795\n",
       "Functioning Day_Yes         0.213525\n",
       "Visibility (10m)            0.193498\n",
       "Time_of_Day_Day             0.170204\n",
       "Seasons_Autumn              0.117443\n",
       "Wind speed (m/s)            0.104367\n",
       "Holiday_No Holiday          0.067252\n",
       "Seasons_Spring              0.032096\n",
       "Weekday                    -0.012333\n",
       "Is_Weekend                 -0.015345\n",
       "Time_of_Day_Morning        -0.056758\n",
       "Holiday_Holiday            -0.067252\n",
       "Rainfall(mm)               -0.127669\n",
       "Snowfall (cm)              -0.145819\n",
       "Humidity(%)                -0.196393\n",
       "Functioning Day_No         -0.213525\n",
       "Time_of_Day_Night          -0.373996\n",
       "Seasons_Winter             -0.434574\n",
       "Name: Rented Bike Count, dtype: float64"
      ]
     },
     "execution_count": 94,
     "metadata": {},
     "output_type": "execute_result"
    }
   ],
   "source": [
    "corr = df.corr()\n",
    "corr['Rented Bike Count'].sort_values(ascending=False)"
   ]
  },
  {
   "cell_type": "markdown",
   "id": "62b6d222-3d43-4972-9614-2e9898a9cf21",
   "metadata": {},
   "source": [
    "*The most correlated with Rented Bike Count are Temperature, Hour, Date, Seasons, and some weather-condition features.*\n",
    "*Logically Seasons like Summer influence a positive correlation, while Winter influences a reversed correlation, same with time of the day...*"
   ]
  },
  {
   "cell_type": "markdown",
   "id": "44d67e50-5035-43da-9dcd-421cb7b4a0e1",
   "metadata": {},
   "source": [
    "# Model"
   ]
  },
  {
   "cell_type": "code",
   "execution_count": 95,
   "id": "2f87db2b-3cbb-41f8-8c76-5377bb37d3e3",
   "metadata": {},
   "outputs": [],
   "source": [
    "from sklearn.model_selection import train_test_split\n",
    "\n",
    "from sklearn.ensemble import RandomForestRegressor\n",
    "\n",
    "from sklearn.metrics import mean_absolute_error, mean_squared_error, r2_score"
   ]
  },
  {
   "cell_type": "code",
   "execution_count": 96,
   "id": "1eae454c-c2db-488c-96a9-b8030cffde4b",
   "metadata": {},
   "outputs": [],
   "source": [
    "X = df.drop(['Rented Bike Count', 'Date'], axis=1)\n",
    "y = df['Rented Bike Count']\n",
    "\n",
    "X_train, X_test, y_train, y_test = train_test_split(X, y, test_size=0.3, random_state=42)"
   ]
  },
  {
   "cell_type": "code",
   "execution_count": 97,
   "id": "1f7f96c1-9823-4238-af56-858fb7b539a1",
   "metadata": {},
   "outputs": [
    {
     "data": {
      "text/html": [
       "<style>#sk-container-id-6 {\n",
       "  /* Definition of color scheme common for light and dark mode */\n",
       "  --sklearn-color-text: #000;\n",
       "  --sklearn-color-text-muted: #666;\n",
       "  --sklearn-color-line: gray;\n",
       "  /* Definition of color scheme for unfitted estimators */\n",
       "  --sklearn-color-unfitted-level-0: #fff5e6;\n",
       "  --sklearn-color-unfitted-level-1: #f6e4d2;\n",
       "  --sklearn-color-unfitted-level-2: #ffe0b3;\n",
       "  --sklearn-color-unfitted-level-3: chocolate;\n",
       "  /* Definition of color scheme for fitted estimators */\n",
       "  --sklearn-color-fitted-level-0: #f0f8ff;\n",
       "  --sklearn-color-fitted-level-1: #d4ebff;\n",
       "  --sklearn-color-fitted-level-2: #b3dbfd;\n",
       "  --sklearn-color-fitted-level-3: cornflowerblue;\n",
       "\n",
       "  /* Specific color for light theme */\n",
       "  --sklearn-color-text-on-default-background: var(--sg-text-color, var(--theme-code-foreground, var(--jp-content-font-color1, black)));\n",
       "  --sklearn-color-background: var(--sg-background-color, var(--theme-background, var(--jp-layout-color0, white)));\n",
       "  --sklearn-color-border-box: var(--sg-text-color, var(--theme-code-foreground, var(--jp-content-font-color1, black)));\n",
       "  --sklearn-color-icon: #696969;\n",
       "\n",
       "  @media (prefers-color-scheme: dark) {\n",
       "    /* Redefinition of color scheme for dark theme */\n",
       "    --sklearn-color-text-on-default-background: var(--sg-text-color, var(--theme-code-foreground, var(--jp-content-font-color1, white)));\n",
       "    --sklearn-color-background: var(--sg-background-color, var(--theme-background, var(--jp-layout-color0, #111)));\n",
       "    --sklearn-color-border-box: var(--sg-text-color, var(--theme-code-foreground, var(--jp-content-font-color1, white)));\n",
       "    --sklearn-color-icon: #878787;\n",
       "  }\n",
       "}\n",
       "\n",
       "#sk-container-id-6 {\n",
       "  color: var(--sklearn-color-text);\n",
       "}\n",
       "\n",
       "#sk-container-id-6 pre {\n",
       "  padding: 0;\n",
       "}\n",
       "\n",
       "#sk-container-id-6 input.sk-hidden--visually {\n",
       "  border: 0;\n",
       "  clip: rect(1px 1px 1px 1px);\n",
       "  clip: rect(1px, 1px, 1px, 1px);\n",
       "  height: 1px;\n",
       "  margin: -1px;\n",
       "  overflow: hidden;\n",
       "  padding: 0;\n",
       "  position: absolute;\n",
       "  width: 1px;\n",
       "}\n",
       "\n",
       "#sk-container-id-6 div.sk-dashed-wrapped {\n",
       "  border: 1px dashed var(--sklearn-color-line);\n",
       "  margin: 0 0.4em 0.5em 0.4em;\n",
       "  box-sizing: border-box;\n",
       "  padding-bottom: 0.4em;\n",
       "  background-color: var(--sklearn-color-background);\n",
       "}\n",
       "\n",
       "#sk-container-id-6 div.sk-container {\n",
       "  /* jupyter's `normalize.less` sets `[hidden] { display: none; }`\n",
       "     but bootstrap.min.css set `[hidden] { display: none !important; }`\n",
       "     so we also need the `!important` here to be able to override the\n",
       "     default hidden behavior on the sphinx rendered scikit-learn.org.\n",
       "     See: https://github.com/scikit-learn/scikit-learn/issues/21755 */\n",
       "  display: inline-block !important;\n",
       "  position: relative;\n",
       "}\n",
       "\n",
       "#sk-container-id-6 div.sk-text-repr-fallback {\n",
       "  display: none;\n",
       "}\n",
       "\n",
       "div.sk-parallel-item,\n",
       "div.sk-serial,\n",
       "div.sk-item {\n",
       "  /* draw centered vertical line to link estimators */\n",
       "  background-image: linear-gradient(var(--sklearn-color-text-on-default-background), var(--sklearn-color-text-on-default-background));\n",
       "  background-size: 2px 100%;\n",
       "  background-repeat: no-repeat;\n",
       "  background-position: center center;\n",
       "}\n",
       "\n",
       "/* Parallel-specific style estimator block */\n",
       "\n",
       "#sk-container-id-6 div.sk-parallel-item::after {\n",
       "  content: \"\";\n",
       "  width: 100%;\n",
       "  border-bottom: 2px solid var(--sklearn-color-text-on-default-background);\n",
       "  flex-grow: 1;\n",
       "}\n",
       "\n",
       "#sk-container-id-6 div.sk-parallel {\n",
       "  display: flex;\n",
       "  align-items: stretch;\n",
       "  justify-content: center;\n",
       "  background-color: var(--sklearn-color-background);\n",
       "  position: relative;\n",
       "}\n",
       "\n",
       "#sk-container-id-6 div.sk-parallel-item {\n",
       "  display: flex;\n",
       "  flex-direction: column;\n",
       "}\n",
       "\n",
       "#sk-container-id-6 div.sk-parallel-item:first-child::after {\n",
       "  align-self: flex-end;\n",
       "  width: 50%;\n",
       "}\n",
       "\n",
       "#sk-container-id-6 div.sk-parallel-item:last-child::after {\n",
       "  align-self: flex-start;\n",
       "  width: 50%;\n",
       "}\n",
       "\n",
       "#sk-container-id-6 div.sk-parallel-item:only-child::after {\n",
       "  width: 0;\n",
       "}\n",
       "\n",
       "/* Serial-specific style estimator block */\n",
       "\n",
       "#sk-container-id-6 div.sk-serial {\n",
       "  display: flex;\n",
       "  flex-direction: column;\n",
       "  align-items: center;\n",
       "  background-color: var(--sklearn-color-background);\n",
       "  padding-right: 1em;\n",
       "  padding-left: 1em;\n",
       "}\n",
       "\n",
       "\n",
       "/* Toggleable style: style used for estimator/Pipeline/ColumnTransformer box that is\n",
       "clickable and can be expanded/collapsed.\n",
       "- Pipeline and ColumnTransformer use this feature and define the default style\n",
       "- Estimators will overwrite some part of the style using the `sk-estimator` class\n",
       "*/\n",
       "\n",
       "/* Pipeline and ColumnTransformer style (default) */\n",
       "\n",
       "#sk-container-id-6 div.sk-toggleable {\n",
       "  /* Default theme specific background. It is overwritten whether we have a\n",
       "  specific estimator or a Pipeline/ColumnTransformer */\n",
       "  background-color: var(--sklearn-color-background);\n",
       "}\n",
       "\n",
       "/* Toggleable label */\n",
       "#sk-container-id-6 label.sk-toggleable__label {\n",
       "  cursor: pointer;\n",
       "  display: flex;\n",
       "  width: 100%;\n",
       "  margin-bottom: 0;\n",
       "  padding: 0.5em;\n",
       "  box-sizing: border-box;\n",
       "  text-align: center;\n",
       "  align-items: start;\n",
       "  justify-content: space-between;\n",
       "  gap: 0.5em;\n",
       "}\n",
       "\n",
       "#sk-container-id-6 label.sk-toggleable__label .caption {\n",
       "  font-size: 0.6rem;\n",
       "  font-weight: lighter;\n",
       "  color: var(--sklearn-color-text-muted);\n",
       "}\n",
       "\n",
       "#sk-container-id-6 label.sk-toggleable__label-arrow:before {\n",
       "  /* Arrow on the left of the label */\n",
       "  content: \"▸\";\n",
       "  float: left;\n",
       "  margin-right: 0.25em;\n",
       "  color: var(--sklearn-color-icon);\n",
       "}\n",
       "\n",
       "#sk-container-id-6 label.sk-toggleable__label-arrow:hover:before {\n",
       "  color: var(--sklearn-color-text);\n",
       "}\n",
       "\n",
       "/* Toggleable content - dropdown */\n",
       "\n",
       "#sk-container-id-6 div.sk-toggleable__content {\n",
       "  max-height: 0;\n",
       "  max-width: 0;\n",
       "  overflow: hidden;\n",
       "  text-align: left;\n",
       "  /* unfitted */\n",
       "  background-color: var(--sklearn-color-unfitted-level-0);\n",
       "}\n",
       "\n",
       "#sk-container-id-6 div.sk-toggleable__content.fitted {\n",
       "  /* fitted */\n",
       "  background-color: var(--sklearn-color-fitted-level-0);\n",
       "}\n",
       "\n",
       "#sk-container-id-6 div.sk-toggleable__content pre {\n",
       "  margin: 0.2em;\n",
       "  border-radius: 0.25em;\n",
       "  color: var(--sklearn-color-text);\n",
       "  /* unfitted */\n",
       "  background-color: var(--sklearn-color-unfitted-level-0);\n",
       "}\n",
       "\n",
       "#sk-container-id-6 div.sk-toggleable__content.fitted pre {\n",
       "  /* unfitted */\n",
       "  background-color: var(--sklearn-color-fitted-level-0);\n",
       "}\n",
       "\n",
       "#sk-container-id-6 input.sk-toggleable__control:checked~div.sk-toggleable__content {\n",
       "  /* Expand drop-down */\n",
       "  max-height: 200px;\n",
       "  max-width: 100%;\n",
       "  overflow: auto;\n",
       "}\n",
       "\n",
       "#sk-container-id-6 input.sk-toggleable__control:checked~label.sk-toggleable__label-arrow:before {\n",
       "  content: \"▾\";\n",
       "}\n",
       "\n",
       "/* Pipeline/ColumnTransformer-specific style */\n",
       "\n",
       "#sk-container-id-6 div.sk-label input.sk-toggleable__control:checked~label.sk-toggleable__label {\n",
       "  color: var(--sklearn-color-text);\n",
       "  background-color: var(--sklearn-color-unfitted-level-2);\n",
       "}\n",
       "\n",
       "#sk-container-id-6 div.sk-label.fitted input.sk-toggleable__control:checked~label.sk-toggleable__label {\n",
       "  background-color: var(--sklearn-color-fitted-level-2);\n",
       "}\n",
       "\n",
       "/* Estimator-specific style */\n",
       "\n",
       "/* Colorize estimator box */\n",
       "#sk-container-id-6 div.sk-estimator input.sk-toggleable__control:checked~label.sk-toggleable__label {\n",
       "  /* unfitted */\n",
       "  background-color: var(--sklearn-color-unfitted-level-2);\n",
       "}\n",
       "\n",
       "#sk-container-id-6 div.sk-estimator.fitted input.sk-toggleable__control:checked~label.sk-toggleable__label {\n",
       "  /* fitted */\n",
       "  background-color: var(--sklearn-color-fitted-level-2);\n",
       "}\n",
       "\n",
       "#sk-container-id-6 div.sk-label label.sk-toggleable__label,\n",
       "#sk-container-id-6 div.sk-label label {\n",
       "  /* The background is the default theme color */\n",
       "  color: var(--sklearn-color-text-on-default-background);\n",
       "}\n",
       "\n",
       "/* On hover, darken the color of the background */\n",
       "#sk-container-id-6 div.sk-label:hover label.sk-toggleable__label {\n",
       "  color: var(--sklearn-color-text);\n",
       "  background-color: var(--sklearn-color-unfitted-level-2);\n",
       "}\n",
       "\n",
       "/* Label box, darken color on hover, fitted */\n",
       "#sk-container-id-6 div.sk-label.fitted:hover label.sk-toggleable__label.fitted {\n",
       "  color: var(--sklearn-color-text);\n",
       "  background-color: var(--sklearn-color-fitted-level-2);\n",
       "}\n",
       "\n",
       "/* Estimator label */\n",
       "\n",
       "#sk-container-id-6 div.sk-label label {\n",
       "  font-family: monospace;\n",
       "  font-weight: bold;\n",
       "  display: inline-block;\n",
       "  line-height: 1.2em;\n",
       "}\n",
       "\n",
       "#sk-container-id-6 div.sk-label-container {\n",
       "  text-align: center;\n",
       "}\n",
       "\n",
       "/* Estimator-specific */\n",
       "#sk-container-id-6 div.sk-estimator {\n",
       "  font-family: monospace;\n",
       "  border: 1px dotted var(--sklearn-color-border-box);\n",
       "  border-radius: 0.25em;\n",
       "  box-sizing: border-box;\n",
       "  margin-bottom: 0.5em;\n",
       "  /* unfitted */\n",
       "  background-color: var(--sklearn-color-unfitted-level-0);\n",
       "}\n",
       "\n",
       "#sk-container-id-6 div.sk-estimator.fitted {\n",
       "  /* fitted */\n",
       "  background-color: var(--sklearn-color-fitted-level-0);\n",
       "}\n",
       "\n",
       "/* on hover */\n",
       "#sk-container-id-6 div.sk-estimator:hover {\n",
       "  /* unfitted */\n",
       "  background-color: var(--sklearn-color-unfitted-level-2);\n",
       "}\n",
       "\n",
       "#sk-container-id-6 div.sk-estimator.fitted:hover {\n",
       "  /* fitted */\n",
       "  background-color: var(--sklearn-color-fitted-level-2);\n",
       "}\n",
       "\n",
       "/* Specification for estimator info (e.g. \"i\" and \"?\") */\n",
       "\n",
       "/* Common style for \"i\" and \"?\" */\n",
       "\n",
       ".sk-estimator-doc-link,\n",
       "a:link.sk-estimator-doc-link,\n",
       "a:visited.sk-estimator-doc-link {\n",
       "  float: right;\n",
       "  font-size: smaller;\n",
       "  line-height: 1em;\n",
       "  font-family: monospace;\n",
       "  background-color: var(--sklearn-color-background);\n",
       "  border-radius: 1em;\n",
       "  height: 1em;\n",
       "  width: 1em;\n",
       "  text-decoration: none !important;\n",
       "  margin-left: 0.5em;\n",
       "  text-align: center;\n",
       "  /* unfitted */\n",
       "  border: var(--sklearn-color-unfitted-level-1) 1pt solid;\n",
       "  color: var(--sklearn-color-unfitted-level-1);\n",
       "}\n",
       "\n",
       ".sk-estimator-doc-link.fitted,\n",
       "a:link.sk-estimator-doc-link.fitted,\n",
       "a:visited.sk-estimator-doc-link.fitted {\n",
       "  /* fitted */\n",
       "  border: var(--sklearn-color-fitted-level-1) 1pt solid;\n",
       "  color: var(--sklearn-color-fitted-level-1);\n",
       "}\n",
       "\n",
       "/* On hover */\n",
       "div.sk-estimator:hover .sk-estimator-doc-link:hover,\n",
       ".sk-estimator-doc-link:hover,\n",
       "div.sk-label-container:hover .sk-estimator-doc-link:hover,\n",
       ".sk-estimator-doc-link:hover {\n",
       "  /* unfitted */\n",
       "  background-color: var(--sklearn-color-unfitted-level-3);\n",
       "  color: var(--sklearn-color-background);\n",
       "  text-decoration: none;\n",
       "}\n",
       "\n",
       "div.sk-estimator.fitted:hover .sk-estimator-doc-link.fitted:hover,\n",
       ".sk-estimator-doc-link.fitted:hover,\n",
       "div.sk-label-container:hover .sk-estimator-doc-link.fitted:hover,\n",
       ".sk-estimator-doc-link.fitted:hover {\n",
       "  /* fitted */\n",
       "  background-color: var(--sklearn-color-fitted-level-3);\n",
       "  color: var(--sklearn-color-background);\n",
       "  text-decoration: none;\n",
       "}\n",
       "\n",
       "/* Span, style for the box shown on hovering the info icon */\n",
       ".sk-estimator-doc-link span {\n",
       "  display: none;\n",
       "  z-index: 9999;\n",
       "  position: relative;\n",
       "  font-weight: normal;\n",
       "  right: .2ex;\n",
       "  padding: .5ex;\n",
       "  margin: .5ex;\n",
       "  width: min-content;\n",
       "  min-width: 20ex;\n",
       "  max-width: 50ex;\n",
       "  color: var(--sklearn-color-text);\n",
       "  box-shadow: 2pt 2pt 4pt #999;\n",
       "  /* unfitted */\n",
       "  background: var(--sklearn-color-unfitted-level-0);\n",
       "  border: .5pt solid var(--sklearn-color-unfitted-level-3);\n",
       "}\n",
       "\n",
       ".sk-estimator-doc-link.fitted span {\n",
       "  /* fitted */\n",
       "  background: var(--sklearn-color-fitted-level-0);\n",
       "  border: var(--sklearn-color-fitted-level-3);\n",
       "}\n",
       "\n",
       ".sk-estimator-doc-link:hover span {\n",
       "  display: block;\n",
       "}\n",
       "\n",
       "/* \"?\"-specific style due to the `<a>` HTML tag */\n",
       "\n",
       "#sk-container-id-6 a.estimator_doc_link {\n",
       "  float: right;\n",
       "  font-size: 1rem;\n",
       "  line-height: 1em;\n",
       "  font-family: monospace;\n",
       "  background-color: var(--sklearn-color-background);\n",
       "  border-radius: 1rem;\n",
       "  height: 1rem;\n",
       "  width: 1rem;\n",
       "  text-decoration: none;\n",
       "  /* unfitted */\n",
       "  color: var(--sklearn-color-unfitted-level-1);\n",
       "  border: var(--sklearn-color-unfitted-level-1) 1pt solid;\n",
       "}\n",
       "\n",
       "#sk-container-id-6 a.estimator_doc_link.fitted {\n",
       "  /* fitted */\n",
       "  border: var(--sklearn-color-fitted-level-1) 1pt solid;\n",
       "  color: var(--sklearn-color-fitted-level-1);\n",
       "}\n",
       "\n",
       "/* On hover */\n",
       "#sk-container-id-6 a.estimator_doc_link:hover {\n",
       "  /* unfitted */\n",
       "  background-color: var(--sklearn-color-unfitted-level-3);\n",
       "  color: var(--sklearn-color-background);\n",
       "  text-decoration: none;\n",
       "}\n",
       "\n",
       "#sk-container-id-6 a.estimator_doc_link.fitted:hover {\n",
       "  /* fitted */\n",
       "  background-color: var(--sklearn-color-fitted-level-3);\n",
       "}\n",
       "</style><div id=\"sk-container-id-6\" class=\"sk-top-container\"><div class=\"sk-text-repr-fallback\"><pre>RandomForestRegressor(n_estimators=200, random_state=42)</pre><b>In a Jupyter environment, please rerun this cell to show the HTML representation or trust the notebook. <br />On GitHub, the HTML representation is unable to render, please try loading this page with nbviewer.org.</b></div><div class=\"sk-container\" hidden><div class=\"sk-item\"><div class=\"sk-estimator fitted sk-toggleable\"><input class=\"sk-toggleable__control sk-hidden--visually\" id=\"sk-estimator-id-6\" type=\"checkbox\" checked><label for=\"sk-estimator-id-6\" class=\"sk-toggleable__label fitted sk-toggleable__label-arrow\"><div><div>RandomForestRegressor</div></div><div><a class=\"sk-estimator-doc-link fitted\" rel=\"noreferrer\" target=\"_blank\" href=\"https://scikit-learn.org/1.6/modules/generated/sklearn.ensemble.RandomForestRegressor.html\">?<span>Documentation for RandomForestRegressor</span></a><span class=\"sk-estimator-doc-link fitted\">i<span>Fitted</span></span></div></label><div class=\"sk-toggleable__content fitted\"><pre>RandomForestRegressor(n_estimators=200, random_state=42)</pre></div> </div></div></div></div>"
      ],
      "text/plain": [
       "RandomForestRegressor(n_estimators=200, random_state=42)"
      ]
     },
     "execution_count": 97,
     "metadata": {},
     "output_type": "execute_result"
    }
   ],
   "source": [
    "model = RandomForestRegressor(n_estimators=200, random_state=42)\n",
    "\n",
    "model.fit(X_train, y_train)"
   ]
  },
  {
   "cell_type": "code",
   "execution_count": 98,
   "id": "68c8dd18-8ef8-4358-80f5-61181d0d072f",
   "metadata": {},
   "outputs": [],
   "source": [
    "y_pred = model.predict(X_test)"
   ]
  },
  {
   "cell_type": "code",
   "execution_count": 99,
   "id": "274e87bb-af0e-4fd4-bf2a-cb2b60257874",
   "metadata": {},
   "outputs": [
    {
     "name": "stdout",
     "output_type": "stream",
     "text": [
      "Mean absolute error: 99.87184618364974\n",
      "Root mean squared error: 163.04812700371866\n",
      "R² Score: 0.9171132684542233\n"
     ]
    }
   ],
   "source": [
    "mae = mean_absolute_error(y_pred, y_test)\n",
    "print(f\"Mean absolute error: {mae}\")\n",
    "\n",
    "mse = mean_squared_error(y_pred, y_test)\n",
    "rmse = mse ** 0.5\n",
    "print(f\"Root mean squared error: {rmse}\")\n",
    "\n",
    "r2 = r2_score(y_pred, y_test)\n",
    "print(f\"R² Score: {r2}\")"
   ]
  },
  {
   "cell_type": "code",
   "execution_count": 100,
   "id": "ad799150-b3bb-4801-9ca4-a861be09c7e3",
   "metadata": {},
   "outputs": [
    {
     "data": {
      "text/plain": [
       "0.925163842840841"
      ]
     },
     "execution_count": 100,
     "metadata": {},
     "output_type": "execute_result"
    }
   ],
   "source": [
    "model.score(X_test, y_test)"
   ]
  },
  {
   "cell_type": "markdown",
   "id": "06ae023c-c4fc-4e1f-8cf2-fcdc2664df94",
   "metadata": {},
   "source": [
    "*Attained score of 0.924 is a very good score for a model. Now hyperparameter tuning can be done, to attain even bigger accuracy of predicting values.*\n",
    "*After hyperparameter tuning score increased to 0.925 (+0.001), which is not much*"
   ]
  },
  {
   "cell_type": "code",
   "execution_count": 101,
   "id": "dba58962-61a7-4d27-b89a-d59cff35a40b",
   "metadata": {},
   "outputs": [],
   "source": [
    "from sklearn.model_selection import GridSearchCV"
   ]
  },
  {
   "cell_type": "code",
   "execution_count": 102,
   "id": "8ae8bd42-7462-4f79-9c86-4680e42b953e",
   "metadata": {},
   "outputs": [
    {
     "name": "stdout",
     "output_type": "stream",
     "text": [
      "Best Parameters: {'max_depth': None, 'n_estimators': 200}\n",
      "Best Score: 0.9136003009606112\n"
     ]
    }
   ],
   "source": [
    "param_grid = {'n_estimators': [50, 100, 200], 'max_depth': [None, 10, 20]}\n",
    "grid_search = GridSearchCV(RandomForestRegressor(random_state=42), param_grid, cv=5, scoring='r2')\n",
    "\n",
    "grid_search.fit(X_train, y_train)\n",
    "print(\"Best Parameters:\", grid_search.best_params_)\n",
    "print(\"Best Score:\", grid_search.best_score_)"
   ]
  },
  {
   "cell_type": "markdown",
   "id": "0f87051f-96b1-4eff-8799-c369527a9b2a",
   "metadata": {},
   "source": [
    "## Model's Feature Importance"
   ]
  },
  {
   "cell_type": "code",
   "execution_count": 103,
   "id": "960fddff-e1de-4111-ae2f-28a67e4c09c8",
   "metadata": {},
   "outputs": [
    {
     "name": "stdout",
     "output_type": "stream",
     "text": [
      "Hour: 0.2868465074320933\n",
      "Temperature(C): 0.2956962297400571\n",
      "Humidity(%): 0.08081204252808402\n",
      "Wind speed (m/s): 0.012706954216172623\n",
      "Visibility (10m): 0.014361629461031155\n",
      "Dew point temperature(C): 0.02476695076155987\n",
      "Solar Radiation (MJ/m2): 0.04755580509652464\n",
      "Rainfall(mm): 0.04898515501195259\n",
      "Snowfall (cm): 0.0008233547387615807\n",
      "Weekday: 0.024831903225042327\n",
      "Is_Weekend: 0.0144120413353826\n",
      "Seasons_Autumn: 0.017334283637317493\n",
      "Seasons_Spring: 0.004282406004970579\n",
      "Seasons_Summer: 0.0029310114566835524\n",
      "Seasons_Winter: 0.015552841858496516\n",
      "Holiday_Holiday: 0.0027069792967753343\n",
      "Holiday_No Holiday: 0.0030221039081346802\n",
      "Functioning Day_No: 0.04478468702619434\n",
      "Functioning Day_Yes: 0.052323013267000014\n",
      "Time_of_Day_Day: 0.0022947484630073947\n",
      "Time_of_Day_Evening: 0.0007922721102590571\n",
      "Time_of_Day_Morning: 0.0017267888339179728\n",
      "Time_of_Day_Night: 0.00045029059058123886\n"
     ]
    }
   ],
   "source": [
    "importance = model.feature_importances_\n",
    "for i, col in enumerate(X.columns):\n",
    "    print(f\"{col}: {importance[i]}\")"
   ]
  },
  {
   "cell_type": "code",
   "execution_count": 104,
   "id": "faa4a80a-6306-4622-b4b3-d3b643be48e0",
   "metadata": {},
   "outputs": [
    {
     "data": {
      "image/png": "[encoded data removed]",
      "text/plain": [
       "<Figure size 640x480 with 1 Axes>"
      ]
     },
     "metadata": {},
     "output_type": "display_data"
    }
   ],
   "source": [
    "plt.barh(X.columns, importance)\n",
    "plt.xlabel(\"Feature Importance\")\n",
    "plt.show()"
   ]
  },
  {
   "cell_type": "markdown",
   "id": "d237fc9a-fce8-477a-ac41-6853ea0a5497",
   "metadata": {},
   "source": [
    "**As was expected: time of the day as well as weather conditions along with season moment, are all most important features, with Hour and Temperature(C) being the most important ones.**"
   ]
  }
 ],
 "metadata": {
  "kernelspec": {
   "display_name": "Python 3 (ipykernel)",
   "language": "python",
   "name": "python3"
  },
  "language_info": {
   "codemirror_mode": {
    "name": "ipython",
    "version": 3
   },
   "file_extension": ".py",
   "mimetype": "text/x-python",
   "name": "python",
   "nbconvert_exporter": "python",
   "pygments_lexer": "ipython3",
   "version": "3.13.1"
  }
 },
 "nbformat": 4,
 "nbformat_minor": 5
}
